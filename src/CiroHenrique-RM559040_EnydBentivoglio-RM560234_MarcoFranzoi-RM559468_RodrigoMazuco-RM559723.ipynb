{
 "cells": [
  {
   "cell_type": "code",
   "execution_count": 1,
   "id": "39fe8598-df77-4f64-a4cf-c2c4f8bacd6a",
   "metadata": {},
   "outputs": [
    {
     "name": "stdout",
     "output_type": "stream",
     "text": [
      "test\n"
     ]
    }
   ],
   "source": [
    "print('test')\n"
   ]
  },
  {
   "cell_type": "code",
   "execution_count": 1,
   "id": "200dd1b8-bf04-48bb-909d-ab5c9291eaa4",
   "metadata": {},
   "outputs": [
    {
     "name": "stdout",
     "output_type": "stream",
     "text": [
      "test2\n"
     ]
    }
   ],
   "source": [
    "print('test2')"
   ]
  },
  {
   "cell_type": "code",
   "execution_count": 4,
   "id": "91bc64e5-209c-4875-bd5b-a7bd28681770",
   "metadata": {},
   "outputs": [
    {
     "name": "stdout",
     "output_type": "stream",
     "text": [
      "Fiz um novo teste pra você, big Cirus!\n"
     ]
    }
   ],
   "source": [
    "print('Fiz um novo teste pra você, big Cirus!')"
   ]
  },
  {
   "cell_type": "code",
   "execution_count": 1,
   "id": "4081d018-90c8-4859-bc7b-dbe43bed08af",
   "metadata": {},
   "outputs": [
    {
     "name": "stdout",
     "output_type": "stream",
     "text": [
      "Obrigado, caro Ro : )\n"
     ]
    }
   ],
   "source": [
    "print('Obrigado, caro Ro : )')"
   ]
  }
 ],
 "metadata": {
  "kernelspec": {
   "display_name": "Python 3 (ipykernel)",
   "language": "python",
   "name": "python3"
  },
  "language_info": {
   "codemirror_mode": {
    "name": "ipython",
    "version": 3
   },
   "file_extension": ".py",
   "mimetype": "text/x-python",
   "name": "python",
   "nbconvert_exporter": "python",
   "pygments_lexer": "ipython3",
   "version": "3.11.4"
  }
 },
 "nbformat": 4,
 "nbformat_minor": 5
}
